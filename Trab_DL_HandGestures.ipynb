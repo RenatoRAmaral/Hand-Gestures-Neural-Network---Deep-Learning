{
  "cells": [
    {
      "cell_type": "markdown",
      "id": "1d6ba102",
      "metadata": {
        "id": "1d6ba102"
      },
      "source": [
        "# Classify gestures by reading muscle activity"
      ]
    },
    {
      "cell_type": "markdown",
      "id": "da2db19e",
      "metadata": {
        "id": "da2db19e"
      },
      "source": [
        "**Classes dos gestos:**\n",
        "\n",
        "*   rock - 0\n",
        "*   scissors - 1\n",
        "*   paper - 2\n",
        "*   ok - 3\n",
        "\n",
        "\n",
        "\n"
      ]
    },
    {
      "cell_type": "code",
      "execution_count": 4,
      "id": "b8f43ebd",
      "metadata": {
        "id": "b8f43ebd"
      },
      "outputs": [],
      "source": [
        "import pandas as pd\n",
        "import numpy as np\n",
        "import matplotlib.pylab as plt\n",
        "\n",
        "from sklearn.preprocessing import StandardScaler\n",
        "from sklearn.model_selection import train_test_split\n",
        "from sklearn.model_selection import KFold\n",
        "from sklearn.preprocessing import MinMaxScaler\n",
        "\n",
        "import tensorflow as tf\n",
        "from tensorflow.keras.models import Sequential\n",
        "from tensorflow.keras.layers import Dense, LSTM, Dropout"
      ]
    },
    {
      "cell_type": "markdown",
      "id": "647089ed",
      "metadata": {
        "id": "647089ed"
      },
      "source": [
        "**Carregamento, análise e Pré-processamento dos Dados**"
      ]
    },
    {
      "cell_type": "code",
      "execution_count": 5,
      "id": "b0689018",
      "metadata": {
        "id": "b0689018"
      },
      "outputs": [],
      "source": [
        "gesto_0 = pd.read_csv('/content/0.csv', header=None)\n",
        "gesto_1 = pd.read_csv('/content/1.csv', header=None)\n",
        "gesto_2 = pd.read_csv('/content/2.csv', header=None)\n",
        "gesto_3 = pd.read_csv('/content/3.csv', header=None)\n",
        "\n",
        "gesto = pd.concat([gesto_0,gesto_1,gesto_2,gesto_3], axis = 0)"
      ]
    },
    {
      "cell_type": "code",
      "execution_count": 6,
      "id": "aa471d63",
      "metadata": {
        "scrolled": false,
        "colab": {
          "base_uri": "https://localhost:8080/",
          "height": 350
        },
        "id": "aa471d63",
        "outputId": "0ef5aa60-6e45-468e-a08e-04524008d9a3"
      },
      "outputs": [
        {
          "output_type": "execute_result",
          "data": {
            "text/plain": [
              "                 0             1             2             3             4   \\\n",
              "count  11678.000000  11678.000000  11678.000000  11678.000000  11678.000000   \n",
              "mean      -0.520380     -0.726837     -0.739082     -0.729748     -0.159103   \n",
              "std       18.566709     11.766878      4.989944      7.441675     17.850402   \n",
              "min     -116.000000   -104.000000    -33.000000    -75.000000   -121.000000   \n",
              "25%       -9.000000     -4.000000     -3.000000     -4.000000    -10.000000   \n",
              "50%       -1.000000     -1.000000     -1.000000     -1.000000      0.000000   \n",
              "75%        7.000000      3.000000      2.000000      3.000000     10.000000   \n",
              "max      111.000000     90.000000     34.000000     55.000000     92.000000   \n",
              "\n",
              "                 5             6             7             8             9   \\\n",
              "count  11678.000000  11678.000000  11678.000000  11678.000000  11678.000000   \n",
              "mean      -0.554890     -1.272649     -0.661843     -0.665953     -0.654222   \n",
              "std       25.809528     25.089972     15.408896     18.123854     11.841260   \n",
              "min     -122.000000   -128.000000   -128.000000   -110.000000   -128.000000   \n",
              "25%      -15.000000     -6.000000     -8.000000     -9.000000     -4.000000   \n",
              "50%       -1.000000     -1.000000     -1.000000     -1.000000     -1.000000   \n",
              "75%       13.000000      4.000000      6.000000      6.000000      3.000000   \n",
              "max      127.000000    127.000000    126.000000    127.000000    106.000000   \n",
              "\n",
              "       ...            55            56            57            58  \\\n",
              "count  ...  11678.000000  11678.000000  11678.000000  11678.000000   \n",
              "mean   ...     -0.932694     -0.836958     -0.740623     -0.768710   \n",
              "std    ...     15.158993     18.204465     12.005206      4.969758   \n",
              "min    ...   -128.000000   -116.000000   -128.000000    -46.000000   \n",
              "25%    ...     -8.000000     -9.000000     -4.000000     -3.000000   \n",
              "50%    ...     -1.000000     -1.000000     -1.000000     -1.000000   \n",
              "75%    ...      6.000000      6.000000      3.000000      2.000000   \n",
              "max    ...    114.000000    127.000000    105.000000     29.000000   \n",
              "\n",
              "                 59            60            61            62            63  \\\n",
              "count  11678.000000  11678.000000  11678.000000  11678.000000  11678.000000   \n",
              "mean      -0.705343     -0.146686     -0.374807     -1.449306     -0.609094   \n",
              "std        7.384410     17.841479     25.551082     25.259736     15.530091   \n",
              "min      -74.000000   -103.000000   -128.000000   -128.000000   -124.000000   \n",
              "25%       -4.000000    -10.000000    -14.000000     -6.000000     -8.000000   \n",
              "50%       -1.000000      0.000000     -1.000000     -1.000000     -1.000000   \n",
              "75%        3.000000     10.000000     13.000000      3.000000      6.000000   \n",
              "max       51.000000    110.000000    127.000000    127.000000    127.000000   \n",
              "\n",
              "                 64  \n",
              "count  11678.000000  \n",
              "mean       1.503254  \n",
              "std        1.117541  \n",
              "min        0.000000  \n",
              "25%        1.000000  \n",
              "50%        2.000000  \n",
              "75%        3.000000  \n",
              "max        3.000000  \n",
              "\n",
              "[8 rows x 65 columns]"
            ],
            "text/html": [
              "\n",
              "  <div id=\"df-ff6eaec9-fbef-4b31-9f6c-3e80bb181d92\" class=\"colab-df-container\">\n",
              "    <div>\n",
              "<style scoped>\n",
              "    .dataframe tbody tr th:only-of-type {\n",
              "        vertical-align: middle;\n",
              "    }\n",
              "\n",
              "    .dataframe tbody tr th {\n",
              "        vertical-align: top;\n",
              "    }\n",
              "\n",
              "    .dataframe thead th {\n",
              "        text-align: right;\n",
              "    }\n",
              "</style>\n",
              "<table border=\"1\" class=\"dataframe\">\n",
              "  <thead>\n",
              "    <tr style=\"text-align: right;\">\n",
              "      <th></th>\n",
              "      <th>0</th>\n",
              "      <th>1</th>\n",
              "      <th>2</th>\n",
              "      <th>3</th>\n",
              "      <th>4</th>\n",
              "      <th>5</th>\n",
              "      <th>6</th>\n",
              "      <th>7</th>\n",
              "      <th>8</th>\n",
              "      <th>9</th>\n",
              "      <th>...</th>\n",
              "      <th>55</th>\n",
              "      <th>56</th>\n",
              "      <th>57</th>\n",
              "      <th>58</th>\n",
              "      <th>59</th>\n",
              "      <th>60</th>\n",
              "      <th>61</th>\n",
              "      <th>62</th>\n",
              "      <th>63</th>\n",
              "      <th>64</th>\n",
              "    </tr>\n",
              "  </thead>\n",
              "  <tbody>\n",
              "    <tr>\n",
              "      <th>count</th>\n",
              "      <td>11678.000000</td>\n",
              "      <td>11678.000000</td>\n",
              "      <td>11678.000000</td>\n",
              "      <td>11678.000000</td>\n",
              "      <td>11678.000000</td>\n",
              "      <td>11678.000000</td>\n",
              "      <td>11678.000000</td>\n",
              "      <td>11678.000000</td>\n",
              "      <td>11678.000000</td>\n",
              "      <td>11678.000000</td>\n",
              "      <td>...</td>\n",
              "      <td>11678.000000</td>\n",
              "      <td>11678.000000</td>\n",
              "      <td>11678.000000</td>\n",
              "      <td>11678.000000</td>\n",
              "      <td>11678.000000</td>\n",
              "      <td>11678.000000</td>\n",
              "      <td>11678.000000</td>\n",
              "      <td>11678.000000</td>\n",
              "      <td>11678.000000</td>\n",
              "      <td>11678.000000</td>\n",
              "    </tr>\n",
              "    <tr>\n",
              "      <th>mean</th>\n",
              "      <td>-0.520380</td>\n",
              "      <td>-0.726837</td>\n",
              "      <td>-0.739082</td>\n",
              "      <td>-0.729748</td>\n",
              "      <td>-0.159103</td>\n",
              "      <td>-0.554890</td>\n",
              "      <td>-1.272649</td>\n",
              "      <td>-0.661843</td>\n",
              "      <td>-0.665953</td>\n",
              "      <td>-0.654222</td>\n",
              "      <td>...</td>\n",
              "      <td>-0.932694</td>\n",
              "      <td>-0.836958</td>\n",
              "      <td>-0.740623</td>\n",
              "      <td>-0.768710</td>\n",
              "      <td>-0.705343</td>\n",
              "      <td>-0.146686</td>\n",
              "      <td>-0.374807</td>\n",
              "      <td>-1.449306</td>\n",
              "      <td>-0.609094</td>\n",
              "      <td>1.503254</td>\n",
              "    </tr>\n",
              "    <tr>\n",
              "      <th>std</th>\n",
              "      <td>18.566709</td>\n",
              "      <td>11.766878</td>\n",
              "      <td>4.989944</td>\n",
              "      <td>7.441675</td>\n",
              "      <td>17.850402</td>\n",
              "      <td>25.809528</td>\n",
              "      <td>25.089972</td>\n",
              "      <td>15.408896</td>\n",
              "      <td>18.123854</td>\n",
              "      <td>11.841260</td>\n",
              "      <td>...</td>\n",
              "      <td>15.158993</td>\n",
              "      <td>18.204465</td>\n",
              "      <td>12.005206</td>\n",
              "      <td>4.969758</td>\n",
              "      <td>7.384410</td>\n",
              "      <td>17.841479</td>\n",
              "      <td>25.551082</td>\n",
              "      <td>25.259736</td>\n",
              "      <td>15.530091</td>\n",
              "      <td>1.117541</td>\n",
              "    </tr>\n",
              "    <tr>\n",
              "      <th>min</th>\n",
              "      <td>-116.000000</td>\n",
              "      <td>-104.000000</td>\n",
              "      <td>-33.000000</td>\n",
              "      <td>-75.000000</td>\n",
              "      <td>-121.000000</td>\n",
              "      <td>-122.000000</td>\n",
              "      <td>-128.000000</td>\n",
              "      <td>-128.000000</td>\n",
              "      <td>-110.000000</td>\n",
              "      <td>-128.000000</td>\n",
              "      <td>...</td>\n",
              "      <td>-128.000000</td>\n",
              "      <td>-116.000000</td>\n",
              "      <td>-128.000000</td>\n",
              "      <td>-46.000000</td>\n",
              "      <td>-74.000000</td>\n",
              "      <td>-103.000000</td>\n",
              "      <td>-128.000000</td>\n",
              "      <td>-128.000000</td>\n",
              "      <td>-124.000000</td>\n",
              "      <td>0.000000</td>\n",
              "    </tr>\n",
              "    <tr>\n",
              "      <th>25%</th>\n",
              "      <td>-9.000000</td>\n",
              "      <td>-4.000000</td>\n",
              "      <td>-3.000000</td>\n",
              "      <td>-4.000000</td>\n",
              "      <td>-10.000000</td>\n",
              "      <td>-15.000000</td>\n",
              "      <td>-6.000000</td>\n",
              "      <td>-8.000000</td>\n",
              "      <td>-9.000000</td>\n",
              "      <td>-4.000000</td>\n",
              "      <td>...</td>\n",
              "      <td>-8.000000</td>\n",
              "      <td>-9.000000</td>\n",
              "      <td>-4.000000</td>\n",
              "      <td>-3.000000</td>\n",
              "      <td>-4.000000</td>\n",
              "      <td>-10.000000</td>\n",
              "      <td>-14.000000</td>\n",
              "      <td>-6.000000</td>\n",
              "      <td>-8.000000</td>\n",
              "      <td>1.000000</td>\n",
              "    </tr>\n",
              "    <tr>\n",
              "      <th>50%</th>\n",
              "      <td>-1.000000</td>\n",
              "      <td>-1.000000</td>\n",
              "      <td>-1.000000</td>\n",
              "      <td>-1.000000</td>\n",
              "      <td>0.000000</td>\n",
              "      <td>-1.000000</td>\n",
              "      <td>-1.000000</td>\n",
              "      <td>-1.000000</td>\n",
              "      <td>-1.000000</td>\n",
              "      <td>-1.000000</td>\n",
              "      <td>...</td>\n",
              "      <td>-1.000000</td>\n",
              "      <td>-1.000000</td>\n",
              "      <td>-1.000000</td>\n",
              "      <td>-1.000000</td>\n",
              "      <td>-1.000000</td>\n",
              "      <td>0.000000</td>\n",
              "      <td>-1.000000</td>\n",
              "      <td>-1.000000</td>\n",
              "      <td>-1.000000</td>\n",
              "      <td>2.000000</td>\n",
              "    </tr>\n",
              "    <tr>\n",
              "      <th>75%</th>\n",
              "      <td>7.000000</td>\n",
              "      <td>3.000000</td>\n",
              "      <td>2.000000</td>\n",
              "      <td>3.000000</td>\n",
              "      <td>10.000000</td>\n",
              "      <td>13.000000</td>\n",
              "      <td>4.000000</td>\n",
              "      <td>6.000000</td>\n",
              "      <td>6.000000</td>\n",
              "      <td>3.000000</td>\n",
              "      <td>...</td>\n",
              "      <td>6.000000</td>\n",
              "      <td>6.000000</td>\n",
              "      <td>3.000000</td>\n",
              "      <td>2.000000</td>\n",
              "      <td>3.000000</td>\n",
              "      <td>10.000000</td>\n",
              "      <td>13.000000</td>\n",
              "      <td>3.000000</td>\n",
              "      <td>6.000000</td>\n",
              "      <td>3.000000</td>\n",
              "    </tr>\n",
              "    <tr>\n",
              "      <th>max</th>\n",
              "      <td>111.000000</td>\n",
              "      <td>90.000000</td>\n",
              "      <td>34.000000</td>\n",
              "      <td>55.000000</td>\n",
              "      <td>92.000000</td>\n",
              "      <td>127.000000</td>\n",
              "      <td>127.000000</td>\n",
              "      <td>126.000000</td>\n",
              "      <td>127.000000</td>\n",
              "      <td>106.000000</td>\n",
              "      <td>...</td>\n",
              "      <td>114.000000</td>\n",
              "      <td>127.000000</td>\n",
              "      <td>105.000000</td>\n",
              "      <td>29.000000</td>\n",
              "      <td>51.000000</td>\n",
              "      <td>110.000000</td>\n",
              "      <td>127.000000</td>\n",
              "      <td>127.000000</td>\n",
              "      <td>127.000000</td>\n",
              "      <td>3.000000</td>\n",
              "    </tr>\n",
              "  </tbody>\n",
              "</table>\n",
              "<p>8 rows × 65 columns</p>\n",
              "</div>\n",
              "    <div class=\"colab-df-buttons\">\n",
              "\n",
              "  <div class=\"colab-df-container\">\n",
              "    <button class=\"colab-df-convert\" onclick=\"convertToInteractive('df-ff6eaec9-fbef-4b31-9f6c-3e80bb181d92')\"\n",
              "            title=\"Convert this dataframe to an interactive table.\"\n",
              "            style=\"display:none;\">\n",
              "\n",
              "  <svg xmlns=\"http://www.w3.org/2000/svg\" height=\"24px\" viewBox=\"0 -960 960 960\">\n",
              "    <path d=\"M120-120v-720h720v720H120Zm60-500h600v-160H180v160Zm220 220h160v-160H400v160Zm0 220h160v-160H400v160ZM180-400h160v-160H180v160Zm440 0h160v-160H620v160ZM180-180h160v-160H180v160Zm440 0h160v-160H620v160Z\"/>\n",
              "  </svg>\n",
              "    </button>\n",
              "\n",
              "  <style>\n",
              "    .colab-df-container {\n",
              "      display:flex;\n",
              "      gap: 12px;\n",
              "    }\n",
              "\n",
              "    .colab-df-convert {\n",
              "      background-color: #E8F0FE;\n",
              "      border: none;\n",
              "      border-radius: 50%;\n",
              "      cursor: pointer;\n",
              "      display: none;\n",
              "      fill: #1967D2;\n",
              "      height: 32px;\n",
              "      padding: 0 0 0 0;\n",
              "      width: 32px;\n",
              "    }\n",
              "\n",
              "    .colab-df-convert:hover {\n",
              "      background-color: #E2EBFA;\n",
              "      box-shadow: 0px 1px 2px rgba(60, 64, 67, 0.3), 0px 1px 3px 1px rgba(60, 64, 67, 0.15);\n",
              "      fill: #174EA6;\n",
              "    }\n",
              "\n",
              "    .colab-df-buttons div {\n",
              "      margin-bottom: 4px;\n",
              "    }\n",
              "\n",
              "    [theme=dark] .colab-df-convert {\n",
              "      background-color: #3B4455;\n",
              "      fill: #D2E3FC;\n",
              "    }\n",
              "\n",
              "    [theme=dark] .colab-df-convert:hover {\n",
              "      background-color: #434B5C;\n",
              "      box-shadow: 0px 1px 3px 1px rgba(0, 0, 0, 0.15);\n",
              "      filter: drop-shadow(0px 1px 2px rgba(0, 0, 0, 0.3));\n",
              "      fill: #FFFFFF;\n",
              "    }\n",
              "  </style>\n",
              "\n",
              "    <script>\n",
              "      const buttonEl =\n",
              "        document.querySelector('#df-ff6eaec9-fbef-4b31-9f6c-3e80bb181d92 button.colab-df-convert');\n",
              "      buttonEl.style.display =\n",
              "        google.colab.kernel.accessAllowed ? 'block' : 'none';\n",
              "\n",
              "      async function convertToInteractive(key) {\n",
              "        const element = document.querySelector('#df-ff6eaec9-fbef-4b31-9f6c-3e80bb181d92');\n",
              "        const dataTable =\n",
              "          await google.colab.kernel.invokeFunction('convertToInteractive',\n",
              "                                                    [key], {});\n",
              "        if (!dataTable) return;\n",
              "\n",
              "        const docLinkHtml = 'Like what you see? Visit the ' +\n",
              "          '<a target=\"_blank\" href=https://colab.research.google.com/notebooks/data_table.ipynb>data table notebook</a>'\n",
              "          + ' to learn more about interactive tables.';\n",
              "        element.innerHTML = '';\n",
              "        dataTable['output_type'] = 'display_data';\n",
              "        await google.colab.output.renderOutput(dataTable, element);\n",
              "        const docLink = document.createElement('div');\n",
              "        docLink.innerHTML = docLinkHtml;\n",
              "        element.appendChild(docLink);\n",
              "      }\n",
              "    </script>\n",
              "  </div>\n",
              "\n",
              "\n",
              "<div id=\"df-717343cd-4ac2-48ba-a595-d3b589f6767d\">\n",
              "  <button class=\"colab-df-quickchart\" onclick=\"quickchart('df-717343cd-4ac2-48ba-a595-d3b589f6767d')\"\n",
              "            title=\"Suggest charts\"\n",
              "            style=\"display:none;\">\n",
              "\n",
              "<svg xmlns=\"http://www.w3.org/2000/svg\" height=\"24px\"viewBox=\"0 0 24 24\"\n",
              "     width=\"24px\">\n",
              "    <g>\n",
              "        <path d=\"M19 3H5c-1.1 0-2 .9-2 2v14c0 1.1.9 2 2 2h14c1.1 0 2-.9 2-2V5c0-1.1-.9-2-2-2zM9 17H7v-7h2v7zm4 0h-2V7h2v10zm4 0h-2v-4h2v4z\"/>\n",
              "    </g>\n",
              "</svg>\n",
              "  </button>\n",
              "\n",
              "<style>\n",
              "  .colab-df-quickchart {\n",
              "      --bg-color: #E8F0FE;\n",
              "      --fill-color: #1967D2;\n",
              "      --hover-bg-color: #E2EBFA;\n",
              "      --hover-fill-color: #174EA6;\n",
              "      --disabled-fill-color: #AAA;\n",
              "      --disabled-bg-color: #DDD;\n",
              "  }\n",
              "\n",
              "  [theme=dark] .colab-df-quickchart {\n",
              "      --bg-color: #3B4455;\n",
              "      --fill-color: #D2E3FC;\n",
              "      --hover-bg-color: #434B5C;\n",
              "      --hover-fill-color: #FFFFFF;\n",
              "      --disabled-bg-color: #3B4455;\n",
              "      --disabled-fill-color: #666;\n",
              "  }\n",
              "\n",
              "  .colab-df-quickchart {\n",
              "    background-color: var(--bg-color);\n",
              "    border: none;\n",
              "    border-radius: 50%;\n",
              "    cursor: pointer;\n",
              "    display: none;\n",
              "    fill: var(--fill-color);\n",
              "    height: 32px;\n",
              "    padding: 0;\n",
              "    width: 32px;\n",
              "  }\n",
              "\n",
              "  .colab-df-quickchart:hover {\n",
              "    background-color: var(--hover-bg-color);\n",
              "    box-shadow: 0 1px 2px rgba(60, 64, 67, 0.3), 0 1px 3px 1px rgba(60, 64, 67, 0.15);\n",
              "    fill: var(--button-hover-fill-color);\n",
              "  }\n",
              "\n",
              "  .colab-df-quickchart-complete:disabled,\n",
              "  .colab-df-quickchart-complete:disabled:hover {\n",
              "    background-color: var(--disabled-bg-color);\n",
              "    fill: var(--disabled-fill-color);\n",
              "    box-shadow: none;\n",
              "  }\n",
              "\n",
              "  .colab-df-spinner {\n",
              "    border: 2px solid var(--fill-color);\n",
              "    border-color: transparent;\n",
              "    border-bottom-color: var(--fill-color);\n",
              "    animation:\n",
              "      spin 1s steps(1) infinite;\n",
              "  }\n",
              "\n",
              "  @keyframes spin {\n",
              "    0% {\n",
              "      border-color: transparent;\n",
              "      border-bottom-color: var(--fill-color);\n",
              "      border-left-color: var(--fill-color);\n",
              "    }\n",
              "    20% {\n",
              "      border-color: transparent;\n",
              "      border-left-color: var(--fill-color);\n",
              "      border-top-color: var(--fill-color);\n",
              "    }\n",
              "    30% {\n",
              "      border-color: transparent;\n",
              "      border-left-color: var(--fill-color);\n",
              "      border-top-color: var(--fill-color);\n",
              "      border-right-color: var(--fill-color);\n",
              "    }\n",
              "    40% {\n",
              "      border-color: transparent;\n",
              "      border-right-color: var(--fill-color);\n",
              "      border-top-color: var(--fill-color);\n",
              "    }\n",
              "    60% {\n",
              "      border-color: transparent;\n",
              "      border-right-color: var(--fill-color);\n",
              "    }\n",
              "    80% {\n",
              "      border-color: transparent;\n",
              "      border-right-color: var(--fill-color);\n",
              "      border-bottom-color: var(--fill-color);\n",
              "    }\n",
              "    90% {\n",
              "      border-color: transparent;\n",
              "      border-bottom-color: var(--fill-color);\n",
              "    }\n",
              "  }\n",
              "</style>\n",
              "\n",
              "  <script>\n",
              "    async function quickchart(key) {\n",
              "      const quickchartButtonEl =\n",
              "        document.querySelector('#' + key + ' button');\n",
              "      quickchartButtonEl.disabled = true;  // To prevent multiple clicks.\n",
              "      quickchartButtonEl.classList.add('colab-df-spinner');\n",
              "      try {\n",
              "        const charts = await google.colab.kernel.invokeFunction(\n",
              "            'suggestCharts', [key], {});\n",
              "      } catch (error) {\n",
              "        console.error('Error during call to suggestCharts:', error);\n",
              "      }\n",
              "      quickchartButtonEl.classList.remove('colab-df-spinner');\n",
              "      quickchartButtonEl.classList.add('colab-df-quickchart-complete');\n",
              "    }\n",
              "    (() => {\n",
              "      let quickchartButtonEl =\n",
              "        document.querySelector('#df-717343cd-4ac2-48ba-a595-d3b589f6767d button');\n",
              "      quickchartButtonEl.style.display =\n",
              "        google.colab.kernel.accessAllowed ? 'block' : 'none';\n",
              "    })();\n",
              "  </script>\n",
              "</div>\n",
              "    </div>\n",
              "  </div>\n"
            ],
            "application/vnd.google.colaboratory.intrinsic+json": {
              "type": "dataframe"
            }
          },
          "metadata": {},
          "execution_count": 6
        }
      ],
      "source": [
        "gesto.describe()"
      ]
    },
    {
      "cell_type": "code",
      "execution_count": 7,
      "id": "fc065654",
      "metadata": {
        "colab": {
          "base_uri": "https://localhost:8080/",
          "height": 236
        },
        "id": "fc065654",
        "outputId": "74e51f46-58bb-495c-b93e-368eb4808185"
      },
      "outputs": [
        {
          "output_type": "execute_result",
          "data": {
            "text/plain": [
              "     0    1    2    3     4     5      6     7     8    9   ...    55    56  \\\n",
              "0  26.0  4.0  5.0  8.0  -1.0 -13.0 -109.0 -66.0  -9.0  2.0  ... -28.0  61.0   \n",
              "1 -47.0 -6.0 -5.0 -7.0  13.0  -1.0   35.0 -10.0  10.0 -4.0  ... -25.0  47.0   \n",
              "2 -19.0 -8.0 -8.0 -8.0 -21.0  -6.0  -79.0  12.0   0.0  5.0  ... -83.0   7.0   \n",
              "3   2.0  3.0  0.0  2.0   0.0  22.0  106.0 -14.0 -16.0 -2.0  ... -38.0 -11.0   \n",
              "4   6.0  0.0  0.0 -2.0 -14.0  10.0  -51.0   5.0   7.0  0.0  ...  38.0 -35.0   \n",
              "\n",
              "    57   58    59    60    61     62    63  64  \n",
              "0  4.0  8.0   5.0   4.0  -7.0  -59.0  16.0   0  \n",
              "1  6.0  6.0   5.0  13.0  21.0  111.0  15.0   0  \n",
              "2  7.0  1.0  -8.0   7.0  21.0  114.0  48.0   0  \n",
              "3  4.0  7.0  11.0  33.0  39.0  119.0  43.0   0  \n",
              "4 -8.0  2.0   6.0 -13.0 -24.0 -112.0 -69.0   0  \n",
              "\n",
              "[5 rows x 65 columns]"
            ],
            "text/html": [
              "\n",
              "  <div id=\"df-b2a6e732-36a7-4fc0-bd96-7173dc99748b\" class=\"colab-df-container\">\n",
              "    <div>\n",
              "<style scoped>\n",
              "    .dataframe tbody tr th:only-of-type {\n",
              "        vertical-align: middle;\n",
              "    }\n",
              "\n",
              "    .dataframe tbody tr th {\n",
              "        vertical-align: top;\n",
              "    }\n",
              "\n",
              "    .dataframe thead th {\n",
              "        text-align: right;\n",
              "    }\n",
              "</style>\n",
              "<table border=\"1\" class=\"dataframe\">\n",
              "  <thead>\n",
              "    <tr style=\"text-align: right;\">\n",
              "      <th></th>\n",
              "      <th>0</th>\n",
              "      <th>1</th>\n",
              "      <th>2</th>\n",
              "      <th>3</th>\n",
              "      <th>4</th>\n",
              "      <th>5</th>\n",
              "      <th>6</th>\n",
              "      <th>7</th>\n",
              "      <th>8</th>\n",
              "      <th>9</th>\n",
              "      <th>...</th>\n",
              "      <th>55</th>\n",
              "      <th>56</th>\n",
              "      <th>57</th>\n",
              "      <th>58</th>\n",
              "      <th>59</th>\n",
              "      <th>60</th>\n",
              "      <th>61</th>\n",
              "      <th>62</th>\n",
              "      <th>63</th>\n",
              "      <th>64</th>\n",
              "    </tr>\n",
              "  </thead>\n",
              "  <tbody>\n",
              "    <tr>\n",
              "      <th>0</th>\n",
              "      <td>26.0</td>\n",
              "      <td>4.0</td>\n",
              "      <td>5.0</td>\n",
              "      <td>8.0</td>\n",
              "      <td>-1.0</td>\n",
              "      <td>-13.0</td>\n",
              "      <td>-109.0</td>\n",
              "      <td>-66.0</td>\n",
              "      <td>-9.0</td>\n",
              "      <td>2.0</td>\n",
              "      <td>...</td>\n",
              "      <td>-28.0</td>\n",
              "      <td>61.0</td>\n",
              "      <td>4.0</td>\n",
              "      <td>8.0</td>\n",
              "      <td>5.0</td>\n",
              "      <td>4.0</td>\n",
              "      <td>-7.0</td>\n",
              "      <td>-59.0</td>\n",
              "      <td>16.0</td>\n",
              "      <td>0</td>\n",
              "    </tr>\n",
              "    <tr>\n",
              "      <th>1</th>\n",
              "      <td>-47.0</td>\n",
              "      <td>-6.0</td>\n",
              "      <td>-5.0</td>\n",
              "      <td>-7.0</td>\n",
              "      <td>13.0</td>\n",
              "      <td>-1.0</td>\n",
              "      <td>35.0</td>\n",
              "      <td>-10.0</td>\n",
              "      <td>10.0</td>\n",
              "      <td>-4.0</td>\n",
              "      <td>...</td>\n",
              "      <td>-25.0</td>\n",
              "      <td>47.0</td>\n",
              "      <td>6.0</td>\n",
              "      <td>6.0</td>\n",
              "      <td>5.0</td>\n",
              "      <td>13.0</td>\n",
              "      <td>21.0</td>\n",
              "      <td>111.0</td>\n",
              "      <td>15.0</td>\n",
              "      <td>0</td>\n",
              "    </tr>\n",
              "    <tr>\n",
              "      <th>2</th>\n",
              "      <td>-19.0</td>\n",
              "      <td>-8.0</td>\n",
              "      <td>-8.0</td>\n",
              "      <td>-8.0</td>\n",
              "      <td>-21.0</td>\n",
              "      <td>-6.0</td>\n",
              "      <td>-79.0</td>\n",
              "      <td>12.0</td>\n",
              "      <td>0.0</td>\n",
              "      <td>5.0</td>\n",
              "      <td>...</td>\n",
              "      <td>-83.0</td>\n",
              "      <td>7.0</td>\n",
              "      <td>7.0</td>\n",
              "      <td>1.0</td>\n",
              "      <td>-8.0</td>\n",
              "      <td>7.0</td>\n",
              "      <td>21.0</td>\n",
              "      <td>114.0</td>\n",
              "      <td>48.0</td>\n",
              "      <td>0</td>\n",
              "    </tr>\n",
              "    <tr>\n",
              "      <th>3</th>\n",
              "      <td>2.0</td>\n",
              "      <td>3.0</td>\n",
              "      <td>0.0</td>\n",
              "      <td>2.0</td>\n",
              "      <td>0.0</td>\n",
              "      <td>22.0</td>\n",
              "      <td>106.0</td>\n",
              "      <td>-14.0</td>\n",
              "      <td>-16.0</td>\n",
              "      <td>-2.0</td>\n",
              "      <td>...</td>\n",
              "      <td>-38.0</td>\n",
              "      <td>-11.0</td>\n",
              "      <td>4.0</td>\n",
              "      <td>7.0</td>\n",
              "      <td>11.0</td>\n",
              "      <td>33.0</td>\n",
              "      <td>39.0</td>\n",
              "      <td>119.0</td>\n",
              "      <td>43.0</td>\n",
              "      <td>0</td>\n",
              "    </tr>\n",
              "    <tr>\n",
              "      <th>4</th>\n",
              "      <td>6.0</td>\n",
              "      <td>0.0</td>\n",
              "      <td>0.0</td>\n",
              "      <td>-2.0</td>\n",
              "      <td>-14.0</td>\n",
              "      <td>10.0</td>\n",
              "      <td>-51.0</td>\n",
              "      <td>5.0</td>\n",
              "      <td>7.0</td>\n",
              "      <td>0.0</td>\n",
              "      <td>...</td>\n",
              "      <td>38.0</td>\n",
              "      <td>-35.0</td>\n",
              "      <td>-8.0</td>\n",
              "      <td>2.0</td>\n",
              "      <td>6.0</td>\n",
              "      <td>-13.0</td>\n",
              "      <td>-24.0</td>\n",
              "      <td>-112.0</td>\n",
              "      <td>-69.0</td>\n",
              "      <td>0</td>\n",
              "    </tr>\n",
              "  </tbody>\n",
              "</table>\n",
              "<p>5 rows × 65 columns</p>\n",
              "</div>\n",
              "    <div class=\"colab-df-buttons\">\n",
              "\n",
              "  <div class=\"colab-df-container\">\n",
              "    <button class=\"colab-df-convert\" onclick=\"convertToInteractive('df-b2a6e732-36a7-4fc0-bd96-7173dc99748b')\"\n",
              "            title=\"Convert this dataframe to an interactive table.\"\n",
              "            style=\"display:none;\">\n",
              "\n",
              "  <svg xmlns=\"http://www.w3.org/2000/svg\" height=\"24px\" viewBox=\"0 -960 960 960\">\n",
              "    <path d=\"M120-120v-720h720v720H120Zm60-500h600v-160H180v160Zm220 220h160v-160H400v160Zm0 220h160v-160H400v160ZM180-400h160v-160H180v160Zm440 0h160v-160H620v160ZM180-180h160v-160H180v160Zm440 0h160v-160H620v160Z\"/>\n",
              "  </svg>\n",
              "    </button>\n",
              "\n",
              "  <style>\n",
              "    .colab-df-container {\n",
              "      display:flex;\n",
              "      gap: 12px;\n",
              "    }\n",
              "\n",
              "    .colab-df-convert {\n",
              "      background-color: #E8F0FE;\n",
              "      border: none;\n",
              "      border-radius: 50%;\n",
              "      cursor: pointer;\n",
              "      display: none;\n",
              "      fill: #1967D2;\n",
              "      height: 32px;\n",
              "      padding: 0 0 0 0;\n",
              "      width: 32px;\n",
              "    }\n",
              "\n",
              "    .colab-df-convert:hover {\n",
              "      background-color: #E2EBFA;\n",
              "      box-shadow: 0px 1px 2px rgba(60, 64, 67, 0.3), 0px 1px 3px 1px rgba(60, 64, 67, 0.15);\n",
              "      fill: #174EA6;\n",
              "    }\n",
              "\n",
              "    .colab-df-buttons div {\n",
              "      margin-bottom: 4px;\n",
              "    }\n",
              "\n",
              "    [theme=dark] .colab-df-convert {\n",
              "      background-color: #3B4455;\n",
              "      fill: #D2E3FC;\n",
              "    }\n",
              "\n",
              "    [theme=dark] .colab-df-convert:hover {\n",
              "      background-color: #434B5C;\n",
              "      box-shadow: 0px 1px 3px 1px rgba(0, 0, 0, 0.15);\n",
              "      filter: drop-shadow(0px 1px 2px rgba(0, 0, 0, 0.3));\n",
              "      fill: #FFFFFF;\n",
              "    }\n",
              "  </style>\n",
              "\n",
              "    <script>\n",
              "      const buttonEl =\n",
              "        document.querySelector('#df-b2a6e732-36a7-4fc0-bd96-7173dc99748b button.colab-df-convert');\n",
              "      buttonEl.style.display =\n",
              "        google.colab.kernel.accessAllowed ? 'block' : 'none';\n",
              "\n",
              "      async function convertToInteractive(key) {\n",
              "        const element = document.querySelector('#df-b2a6e732-36a7-4fc0-bd96-7173dc99748b');\n",
              "        const dataTable =\n",
              "          await google.colab.kernel.invokeFunction('convertToInteractive',\n",
              "                                                    [key], {});\n",
              "        if (!dataTable) return;\n",
              "\n",
              "        const docLinkHtml = 'Like what you see? Visit the ' +\n",
              "          '<a target=\"_blank\" href=https://colab.research.google.com/notebooks/data_table.ipynb>data table notebook</a>'\n",
              "          + ' to learn more about interactive tables.';\n",
              "        element.innerHTML = '';\n",
              "        dataTable['output_type'] = 'display_data';\n",
              "        await google.colab.output.renderOutput(dataTable, element);\n",
              "        const docLink = document.createElement('div');\n",
              "        docLink.innerHTML = docLinkHtml;\n",
              "        element.appendChild(docLink);\n",
              "      }\n",
              "    </script>\n",
              "  </div>\n",
              "\n",
              "\n",
              "<div id=\"df-64141bf4-ac3f-4261-a42a-4314e1179ad2\">\n",
              "  <button class=\"colab-df-quickchart\" onclick=\"quickchart('df-64141bf4-ac3f-4261-a42a-4314e1179ad2')\"\n",
              "            title=\"Suggest charts\"\n",
              "            style=\"display:none;\">\n",
              "\n",
              "<svg xmlns=\"http://www.w3.org/2000/svg\" height=\"24px\"viewBox=\"0 0 24 24\"\n",
              "     width=\"24px\">\n",
              "    <g>\n",
              "        <path d=\"M19 3H5c-1.1 0-2 .9-2 2v14c0 1.1.9 2 2 2h14c1.1 0 2-.9 2-2V5c0-1.1-.9-2-2-2zM9 17H7v-7h2v7zm4 0h-2V7h2v10zm4 0h-2v-4h2v4z\"/>\n",
              "    </g>\n",
              "</svg>\n",
              "  </button>\n",
              "\n",
              "<style>\n",
              "  .colab-df-quickchart {\n",
              "      --bg-color: #E8F0FE;\n",
              "      --fill-color: #1967D2;\n",
              "      --hover-bg-color: #E2EBFA;\n",
              "      --hover-fill-color: #174EA6;\n",
              "      --disabled-fill-color: #AAA;\n",
              "      --disabled-bg-color: #DDD;\n",
              "  }\n",
              "\n",
              "  [theme=dark] .colab-df-quickchart {\n",
              "      --bg-color: #3B4455;\n",
              "      --fill-color: #D2E3FC;\n",
              "      --hover-bg-color: #434B5C;\n",
              "      --hover-fill-color: #FFFFFF;\n",
              "      --disabled-bg-color: #3B4455;\n",
              "      --disabled-fill-color: #666;\n",
              "  }\n",
              "\n",
              "  .colab-df-quickchart {\n",
              "    background-color: var(--bg-color);\n",
              "    border: none;\n",
              "    border-radius: 50%;\n",
              "    cursor: pointer;\n",
              "    display: none;\n",
              "    fill: var(--fill-color);\n",
              "    height: 32px;\n",
              "    padding: 0;\n",
              "    width: 32px;\n",
              "  }\n",
              "\n",
              "  .colab-df-quickchart:hover {\n",
              "    background-color: var(--hover-bg-color);\n",
              "    box-shadow: 0 1px 2px rgba(60, 64, 67, 0.3), 0 1px 3px 1px rgba(60, 64, 67, 0.15);\n",
              "    fill: var(--button-hover-fill-color);\n",
              "  }\n",
              "\n",
              "  .colab-df-quickchart-complete:disabled,\n",
              "  .colab-df-quickchart-complete:disabled:hover {\n",
              "    background-color: var(--disabled-bg-color);\n",
              "    fill: var(--disabled-fill-color);\n",
              "    box-shadow: none;\n",
              "  }\n",
              "\n",
              "  .colab-df-spinner {\n",
              "    border: 2px solid var(--fill-color);\n",
              "    border-color: transparent;\n",
              "    border-bottom-color: var(--fill-color);\n",
              "    animation:\n",
              "      spin 1s steps(1) infinite;\n",
              "  }\n",
              "\n",
              "  @keyframes spin {\n",
              "    0% {\n",
              "      border-color: transparent;\n",
              "      border-bottom-color: var(--fill-color);\n",
              "      border-left-color: var(--fill-color);\n",
              "    }\n",
              "    20% {\n",
              "      border-color: transparent;\n",
              "      border-left-color: var(--fill-color);\n",
              "      border-top-color: var(--fill-color);\n",
              "    }\n",
              "    30% {\n",
              "      border-color: transparent;\n",
              "      border-left-color: var(--fill-color);\n",
              "      border-top-color: var(--fill-color);\n",
              "      border-right-color: var(--fill-color);\n",
              "    }\n",
              "    40% {\n",
              "      border-color: transparent;\n",
              "      border-right-color: var(--fill-color);\n",
              "      border-top-color: var(--fill-color);\n",
              "    }\n",
              "    60% {\n",
              "      border-color: transparent;\n",
              "      border-right-color: var(--fill-color);\n",
              "    }\n",
              "    80% {\n",
              "      border-color: transparent;\n",
              "      border-right-color: var(--fill-color);\n",
              "      border-bottom-color: var(--fill-color);\n",
              "    }\n",
              "    90% {\n",
              "      border-color: transparent;\n",
              "      border-bottom-color: var(--fill-color);\n",
              "    }\n",
              "  }\n",
              "</style>\n",
              "\n",
              "  <script>\n",
              "    async function quickchart(key) {\n",
              "      const quickchartButtonEl =\n",
              "        document.querySelector('#' + key + ' button');\n",
              "      quickchartButtonEl.disabled = true;  // To prevent multiple clicks.\n",
              "      quickchartButtonEl.classList.add('colab-df-spinner');\n",
              "      try {\n",
              "        const charts = await google.colab.kernel.invokeFunction(\n",
              "            'suggestCharts', [key], {});\n",
              "      } catch (error) {\n",
              "        console.error('Error during call to suggestCharts:', error);\n",
              "      }\n",
              "      quickchartButtonEl.classList.remove('colab-df-spinner');\n",
              "      quickchartButtonEl.classList.add('colab-df-quickchart-complete');\n",
              "    }\n",
              "    (() => {\n",
              "      let quickchartButtonEl =\n",
              "        document.querySelector('#df-64141bf4-ac3f-4261-a42a-4314e1179ad2 button');\n",
              "      quickchartButtonEl.style.display =\n",
              "        google.colab.kernel.accessAllowed ? 'block' : 'none';\n",
              "    })();\n",
              "  </script>\n",
              "</div>\n",
              "    </div>\n",
              "  </div>\n"
            ],
            "application/vnd.google.colaboratory.intrinsic+json": {
              "type": "dataframe",
              "variable_name": "gesto"
            }
          },
          "metadata": {},
          "execution_count": 7
        }
      ],
      "source": [
        "gesto.head()"
      ]
    },
    {
      "cell_type": "code",
      "execution_count": 8,
      "id": "3ea3c21d",
      "metadata": {
        "scrolled": true,
        "colab": {
          "base_uri": "https://localhost:8080/"
        },
        "id": "3ea3c21d",
        "outputId": "eea5379d-efdf-411d-8322-a6d0424651ee"
      },
      "outputs": [
        {
          "output_type": "stream",
          "name": "stdout",
          "text": [
            "<class 'pandas.core.frame.DataFrame'>\n",
            "Int64Index: 11678 entries, 0 to 2921\n",
            "Data columns (total 65 columns):\n",
            " #   Column  Non-Null Count  Dtype  \n",
            "---  ------  --------------  -----  \n",
            " 0   0       11678 non-null  float64\n",
            " 1   1       11678 non-null  float64\n",
            " 2   2       11678 non-null  float64\n",
            " 3   3       11678 non-null  float64\n",
            " 4   4       11678 non-null  float64\n",
            " 5   5       11678 non-null  float64\n",
            " 6   6       11678 non-null  float64\n",
            " 7   7       11678 non-null  float64\n",
            " 8   8       11678 non-null  float64\n",
            " 9   9       11678 non-null  float64\n",
            " 10  10      11678 non-null  float64\n",
            " 11  11      11678 non-null  float64\n",
            " 12  12      11678 non-null  float64\n",
            " 13  13      11678 non-null  float64\n",
            " 14  14      11678 non-null  float64\n",
            " 15  15      11678 non-null  float64\n",
            " 16  16      11678 non-null  float64\n",
            " 17  17      11678 non-null  float64\n",
            " 18  18      11678 non-null  float64\n",
            " 19  19      11678 non-null  float64\n",
            " 20  20      11678 non-null  float64\n",
            " 21  21      11678 non-null  float64\n",
            " 22  22      11678 non-null  float64\n",
            " 23  23      11678 non-null  float64\n",
            " 24  24      11678 non-null  float64\n",
            " 25  25      11678 non-null  float64\n",
            " 26  26      11678 non-null  float64\n",
            " 27  27      11678 non-null  float64\n",
            " 28  28      11678 non-null  float64\n",
            " 29  29      11678 non-null  float64\n",
            " 30  30      11678 non-null  float64\n",
            " 31  31      11678 non-null  float64\n",
            " 32  32      11678 non-null  float64\n",
            " 33  33      11678 non-null  float64\n",
            " 34  34      11678 non-null  float64\n",
            " 35  35      11678 non-null  float64\n",
            " 36  36      11678 non-null  float64\n",
            " 37  37      11678 non-null  float64\n",
            " 38  38      11678 non-null  float64\n",
            " 39  39      11678 non-null  float64\n",
            " 40  40      11678 non-null  float64\n",
            " 41  41      11678 non-null  float64\n",
            " 42  42      11678 non-null  float64\n",
            " 43  43      11678 non-null  float64\n",
            " 44  44      11678 non-null  float64\n",
            " 45  45      11678 non-null  float64\n",
            " 46  46      11678 non-null  float64\n",
            " 47  47      11678 non-null  float64\n",
            " 48  48      11678 non-null  float64\n",
            " 49  49      11678 non-null  float64\n",
            " 50  50      11678 non-null  float64\n",
            " 51  51      11678 non-null  float64\n",
            " 52  52      11678 non-null  float64\n",
            " 53  53      11678 non-null  float64\n",
            " 54  54      11678 non-null  float64\n",
            " 55  55      11678 non-null  float64\n",
            " 56  56      11678 non-null  float64\n",
            " 57  57      11678 non-null  float64\n",
            " 58  58      11678 non-null  float64\n",
            " 59  59      11678 non-null  float64\n",
            " 60  60      11678 non-null  float64\n",
            " 61  61      11678 non-null  float64\n",
            " 62  62      11678 non-null  float64\n",
            " 63  63      11678 non-null  float64\n",
            " 64  64      11678 non-null  int64  \n",
            "dtypes: float64(64), int64(1)\n",
            "memory usage: 5.9 MB\n"
          ]
        }
      ],
      "source": [
        "gesto.info()"
      ]
    },
    {
      "cell_type": "markdown",
      "source": [
        "**Dimensoes dos arrays bidimensionais**"
      ],
      "metadata": {
        "id": "cDg9-ufgtkcR"
      },
      "id": "cDg9-ufgtkcR"
    },
    {
      "cell_type": "code",
      "execution_count": 9,
      "id": "a0558835",
      "metadata": {
        "colab": {
          "base_uri": "https://localhost:8080/"
        },
        "id": "a0558835",
        "outputId": "a919f66d-cf2d-460b-b91d-a7e2f3fe99ca"
      },
      "outputs": [
        {
          "output_type": "execute_result",
          "data": {
            "text/plain": [
              "((2910, 65), (2903, 65), (2943, 65), (2922, 65))"
            ]
          },
          "metadata": {},
          "execution_count": 9
        }
      ],
      "source": [
        "gesto_0.shape, gesto_1.shape, gesto_2.shape, gesto_3.shape"
      ]
    },
    {
      "cell_type": "code",
      "execution_count": 10,
      "id": "298833fe",
      "metadata": {
        "id": "298833fe"
      },
      "outputs": [],
      "source": [
        "x = gesto.loc[:,0:63]\n",
        "y = gesto[64]"
      ]
    },
    {
      "cell_type": "code",
      "execution_count": 11,
      "id": "3d3335c6",
      "metadata": {
        "id": "3d3335c6"
      },
      "outputs": [],
      "source": [
        "x = np.array(x)\n",
        "y = np.array(y)"
      ]
    },
    {
      "cell_type": "markdown",
      "id": "fd3527c9",
      "metadata": {
        "id": "fd3527c9"
      },
      "source": [
        "**Normalização dos Dados**"
      ]
    },
    {
      "cell_type": "code",
      "execution_count": 12,
      "id": "e92dcefb",
      "metadata": {
        "id": "e92dcefb"
      },
      "outputs": [],
      "source": [
        "x = x.reshape(x.shape[0]*x.shape[1], 1)\n",
        "sc = StandardScaler()\n",
        "x = sc.fit_transform(x)"
      ]
    },
    {
      "cell_type": "markdown",
      "id": "44bcfb69",
      "metadata": {
        "id": "44bcfb69"
      },
      "source": [
        "**Transformação dos Rótulos**"
      ]
    },
    {
      "cell_type": "code",
      "execution_count": 13,
      "id": "5a41ef95",
      "metadata": {
        "id": "5a41ef95"
      },
      "outputs": [],
      "source": [
        "y = np.eye(np.max(y) + 1)[y]"
      ]
    },
    {
      "cell_type": "markdown",
      "id": "a68ddf25",
      "metadata": {
        "id": "a68ddf25"
      },
      "source": [
        "**Divisão dos Dados em Conjuntos de Treinamento e Teste**"
      ]
    },
    {
      "cell_type": "code",
      "execution_count": 14,
      "id": "cea9a82e",
      "metadata": {
        "scrolled": true,
        "id": "cea9a82e"
      },
      "outputs": [],
      "source": [
        "x = x.reshape((-1, 8, 8))"
      ]
    },
    {
      "cell_type": "code",
      "execution_count": 15,
      "id": "d848020f",
      "metadata": {
        "colab": {
          "base_uri": "https://localhost:8080/"
        },
        "id": "d848020f",
        "outputId": "5307a905-d99e-4e43-9e89-e419d92792b6"
      },
      "outputs": [
        {
          "output_type": "stream",
          "name": "stdout",
          "text": [
            "All Data size X and y\n",
            "(11678, 8, 8)\n",
            "(11678, 4)\n"
          ]
        }
      ],
      "source": [
        "print(\"All Data size X and y\")\n",
        "print(x.shape)\n",
        "print(y.shape)"
      ]
    },
    {
      "cell_type": "code",
      "execution_count": 16,
      "id": "89f6f24a",
      "metadata": {
        "id": "89f6f24a"
      },
      "outputs": [],
      "source": [
        "x_train, x_test, y_train, y_test = train_test_split(x, y, test_size=0.25, random_state=42,stratify=y)"
      ]
    },
    {
      "cell_type": "code",
      "execution_count": 17,
      "id": "8e1b59e1",
      "metadata": {
        "colab": {
          "base_uri": "https://localhost:8080/"
        },
        "id": "8e1b59e1",
        "outputId": "d1c467aa-b07e-4b2d-e84d-dfcd80cad58e"
      },
      "outputs": [
        {
          "output_type": "stream",
          "name": "stdout",
          "text": [
            "All Data size X and y\n",
            "(8758, 8, 8)\n",
            "(8758, 4)\n"
          ]
        }
      ],
      "source": [
        "print(\"All Data size X and y\")\n",
        "print(x_train.shape)\n",
        "print(y_train.shape)"
      ]
    },
    {
      "cell_type": "code",
      "execution_count": 18,
      "id": "e9ea66f3",
      "metadata": {
        "colab": {
          "base_uri": "https://localhost:8080/"
        },
        "id": "e9ea66f3",
        "outputId": "a6129cf0-61fb-4b0f-ab45-6018aeaa120e"
      },
      "outputs": [
        {
          "output_type": "stream",
          "name": "stdout",
          "text": [
            "Test Data size X and y\n",
            "(2920, 8, 8)\n",
            "(2920, 4)\n"
          ]
        }
      ],
      "source": [
        "print(\"Test Data size X and y\")\n",
        "print(x_test.shape)\n",
        "print(y_test.shape)"
      ]
    },
    {
      "cell_type": "markdown",
      "id": "5a9b5eb6",
      "metadata": {
        "id": "5a9b5eb6"
      },
      "source": [
        "**K-Fold**"
      ]
    },
    {
      "cell_type": "code",
      "execution_count": 19,
      "id": "033cc225",
      "metadata": {
        "id": "033cc225"
      },
      "outputs": [],
      "source": [
        "kf = KFold(n_splits=5, shuffle=True)\n",
        "cnt = 1"
      ]
    },
    {
      "cell_type": "code",
      "execution_count": 20,
      "id": "8500b2ad",
      "metadata": {
        "colab": {
          "base_uri": "https://localhost:8080/"
        },
        "id": "8500b2ad",
        "outputId": "bbb235ee-df66-471c-f904-648eb4f26a15"
      },
      "outputs": [
        {
          "output_type": "stream",
          "name": "stdout",
          "text": [
            "Fold: 1, Train set: 9342, Test set: 2336\n",
            "Fold: 2, Train set: 9342, Test set: 2336\n",
            "Fold: 3, Train set: 9342, Test set: 2336\n",
            "Fold: 4, Train set: 9343, Test set: 2335\n",
            "Fold: 5, Train set: 9343, Test set: 2335\n"
          ]
        }
      ],
      "source": [
        "for train_index, test_index in kf.split(x, y):\n",
        "    print(f'Fold: {cnt}, Train set: {len(train_index)}, Test set: {len(test_index)}')\n",
        "    cnt += 1"
      ]
    },
    {
      "cell_type": "markdown",
      "id": "a4d83830",
      "metadata": {
        "id": "a4d83830"
      },
      "source": [
        "**Definição da Arquitetura do Modelo**"
      ]
    },
    {
      "cell_type": "markdown",
      "source": [
        "Teste Simples\n",
        "\n"
      ],
      "metadata": {
        "id": "Um4gIwQdu7Qi"
      },
      "id": "Um4gIwQdu7Qi"
    },
    {
      "cell_type": "code",
      "source": [
        "model = Sequential()\n",
        "model.add(LSTM(units=32, input_shape=(x_train.shape[1], 8)))\n",
        "model.add(Dropout(0.9))\n",
        "\n",
        "model.add(Dense(units=16))\n",
        "model.add(Dense(units=4, activation=\"softmax\"))\n",
        "\n",
        "model.compile(optimizer=\"adam\", loss=\"binary_crossentropy\", metrics=[\"accuracy\"])\n",
        "\n",
        "model.summary()"
      ],
      "metadata": {
        "colab": {
          "base_uri": "https://localhost:8080/"
        },
        "id": "og0KP6oBu5H-",
        "outputId": "bde0de49-42c0-486e-c50b-cda5ce9bde39"
      },
      "id": "og0KP6oBu5H-",
      "execution_count": 72,
      "outputs": [
        {
          "output_type": "stream",
          "name": "stdout",
          "text": [
            "Model: \"sequential_10\"\n",
            "_________________________________________________________________\n",
            " Layer (type)                Output Shape              Param #   \n",
            "=================================================================\n",
            " lstm_22 (LSTM)              (None, 32)                5248      \n",
            "                                                                 \n",
            " dropout_22 (Dropout)        (None, 32)                0         \n",
            "                                                                 \n",
            " dense_24 (Dense)            (None, 16)                528       \n",
            "                                                                 \n",
            " dense_25 (Dense)            (None, 4)                 68        \n",
            "                                                                 \n",
            "=================================================================\n",
            "Total params: 5844 (22.83 KB)\n",
            "Trainable params: 5844 (22.83 KB)\n",
            "Non-trainable params: 0 (0.00 Byte)\n",
            "_________________________________________________________________\n"
          ]
        }
      ]
    },
    {
      "cell_type": "code",
      "source": [
        "callback = tf.keras.callbacks.EarlyStopping(monitor='loss', patience=2)"
      ],
      "metadata": {
        "id": "bMSxF98evhrH"
      },
      "id": "bMSxF98evhrH",
      "execution_count": 73,
      "outputs": []
    },
    {
      "cell_type": "markdown",
      "source": [
        "O treino é interrompido quando a \"val_loss\" não diminuir por 5 epochs consecutivas."
      ],
      "metadata": {
        "id": "i07uFPNkzfvN"
      },
      "id": "i07uFPNkzfvN"
    },
    {
      "cell_type": "code",
      "source": [
        "history=model.fit(x_train, y_train, epochs = 5, batch_size = 32, verbose=2 , callbacks=[callback],validation_split=0.6,)"
      ],
      "metadata": {
        "colab": {
          "base_uri": "https://localhost:8080/"
        },
        "id": "tbFrofg2vjgv",
        "outputId": "5ff379d1-4f74-44a9-ebbd-84a5ad971dd8"
      },
      "id": "tbFrofg2vjgv",
      "execution_count": 74,
      "outputs": [
        {
          "output_type": "stream",
          "name": "stdout",
          "text": [
            "Epoch 1/5\n",
            "110/110 - 6s - loss: 0.6190 - accuracy: 0.2786 - val_loss: 0.5381 - val_accuracy: 0.4837 - 6s/epoch - 56ms/step\n",
            "Epoch 2/5\n",
            "110/110 - 1s - loss: 0.5122 - accuracy: 0.4282 - val_loss: 0.3983 - val_accuracy: 0.6206 - 1s/epoch - 10ms/step\n",
            "Epoch 3/5\n",
            "110/110 - 1s - loss: 0.4355 - accuracy: 0.5021 - val_loss: 0.3744 - val_accuracy: 0.6603 - 825ms/epoch - 8ms/step\n",
            "Epoch 4/5\n",
            "110/110 - 1s - loss: 0.4061 - accuracy: 0.5427 - val_loss: 0.3532 - val_accuracy: 0.7155 - 809ms/epoch - 7ms/step\n",
            "Epoch 5/5\n",
            "110/110 - 1s - loss: 0.3826 - accuracy: 0.5889 - val_loss: 0.3302 - val_accuracy: 0.7401 - 1s/epoch - 10ms/step\n"
          ]
        }
      ]
    },
    {
      "cell_type": "code",
      "source": [
        "plt.figure(figsize=(10, 5))  # Adjust figure size for better visualization\n",
        "\n",
        "# Gráfico de Accuracy\n",
        "plt.subplot(2, 1, 1)  # 2 rows, 1 column, first subplot\n",
        "plt.plot(history.history['accuracy'], label='accuracy de treino')\n",
        "plt.plot(history.history['val_accuracy'], label='val_accuracy')\n",
        "plt.title('Accuracy')\n",
        "plt.xlabel('epochs')\n",
        "plt.ylabel('accuracy')\n",
        "plt.legend()\n",
        "\n",
        "# Gráfico de Loss\n",
        "plt.subplot(2, 1, 2)  # 2 rows, 1 column, second subplot\n",
        "plt.plot(history.history['loss'], label='loss de treino')\n",
        "plt.plot(history.history['val_loss'], label='val_loss')\n",
        "plt.title('Loss')\n",
        "plt.xlabel('epochs')\n",
        "plt.ylabel('loss')\n",
        "plt.legend()\n",
        "\n",
        "plt.tight_layout()"
      ],
      "metadata": {
        "colab": {
          "base_uri": "https://localhost:8080/",
          "height": 507
        },
        "id": "W3Q_qAc35x_3",
        "outputId": "7dd9921e-cda5-46e8-9431-aaf30f494f53"
      },
      "id": "W3Q_qAc35x_3",
      "execution_count": 75,
      "outputs": [
        {
          "output_type": "display_data",
          "data": {
            "text/plain": [
              "<Figure size 1000x500 with 2 Axes>"
            ],
            "image/png": "[encoded data removed]"
          },
          "metadata": {}
        }
      ]
    },
    {
      "cell_type": "markdown",
      "source": [
        "**Aumentar complexidade do modelo**\n",
        "\n",
        "*   Aumentar Layers\n",
        "*   Aumentar o número de neurónios\n",
        "*   Aumentar o número de epochs"
      ],
      "metadata": {
        "id": "zGmK6g1HxxC3"
      },
      "id": "zGmK6g1HxxC3"
    },
    {
      "cell_type": "code",
      "execution_count": 45,
      "id": "87def39a",
      "metadata": {
        "colab": {
          "base_uri": "https://localhost:8080/"
        },
        "id": "87def39a",
        "outputId": "46ea773a-e4a3-4804-9a8e-9e030467432f"
      },
      "outputs": [
        {
          "output_type": "stream",
          "name": "stdout",
          "text": [
            "Model: \"sequential_6\"\n",
            "_________________________________________________________________\n",
            " Layer (type)                Output Shape              Param #   \n",
            "=================================================================\n",
            " lstm_15 (LSTM)              (None, 8, 64)             18688     \n",
            "                                                                 \n",
            " dropout_15 (Dropout)        (None, 8, 64)             0         \n",
            "                                                                 \n",
            " lstm_16 (LSTM)              (None, 8, 64)             33024     \n",
            "                                                                 \n",
            " dropout_16 (Dropout)        (None, 8, 64)             0         \n",
            "                                                                 \n",
            " lstm_17 (LSTM)              (None, 8, 64)             33024     \n",
            "                                                                 \n",
            " dropout_17 (Dropout)        (None, 8, 64)             0         \n",
            "                                                                 \n",
            " lstm_18 (LSTM)              (None, 64)                33024     \n",
            "                                                                 \n",
            " dropout_18 (Dropout)        (None, 64)                0         \n",
            "                                                                 \n",
            " dense_15 (Dense)            (None, 64)                4160      \n",
            "                                                                 \n",
            " dense_16 (Dense)            (None, 128)               8320      \n",
            "                                                                 \n",
            " dense_17 (Dense)            (None, 4)                 516       \n",
            "                                                                 \n",
            "=================================================================\n",
            "Total params: 130756 (510.77 KB)\n",
            "Trainable params: 130756 (510.77 KB)\n",
            "Non-trainable params: 0 (0.00 Byte)\n",
            "_________________________________________________________________\n"
          ]
        }
      ],
      "source": [
        "model = Sequential()\n",
        "model.add(LSTM(units=64, return_sequences=True, input_shape=(x_train.shape[1], 8)))\n",
        "model.add(Dropout(0.2))\n",
        "\n",
        "model.add(LSTM(units=64, return_sequences=True))\n",
        "model.add(Dropout(0.2))\n",
        "\n",
        "model.add(LSTM(units=64, return_sequences=True))\n",
        "model.add(Dropout(0.2))\n",
        "\n",
        "model.add(LSTM(units=64))\n",
        "model.add(Dropout(0.2))\n",
        "\n",
        "model.add(Dense(units=64))\n",
        "model.add(Dense(units=128))\n",
        "model.add(Dense(units=4, activation=\"softmax\"))\n",
        "\n",
        "model.compile(optimizer=\"adam\", loss=\"binary_crossentropy\", metrics=[\"accuracy\"])\n",
        "\n",
        "#As units representam o número de neurónios em cada layer\n",
        "\n",
        "model.summary()"
      ]
    },
    {
      "cell_type": "markdown",
      "id": "b489dad3",
      "metadata": {
        "id": "b489dad3"
      },
      "source": [
        "**Compilação e Treinamento do Modelo**"
      ]
    },
    {
      "cell_type": "code",
      "execution_count": 43,
      "id": "e57150af",
      "metadata": {
        "id": "e57150af"
      },
      "outputs": [],
      "source": [
        "callback = tf.keras.callbacks.EarlyStopping(monitor='loss', patience=5)"
      ]
    },
    {
      "cell_type": "code",
      "execution_count": 47,
      "id": "28d48efb",
      "metadata": {
        "colab": {
          "base_uri": "https://localhost:8080/"
        },
        "id": "28d48efb",
        "outputId": "26fd5a17-fa4a-4378-f3e4-5c385425e439"
      },
      "outputs": [
        {
          "output_type": "stream",
          "name": "stdout",
          "text": [
            "Epoch 1/15\n",
            "219/219 - 6s - loss: 0.0548 - accuracy: 0.9653 - val_loss: 0.0656 - val_accuracy: 0.9521 - 6s/epoch - 25ms/step\n",
            "Epoch 2/15\n",
            "219/219 - 5s - loss: 0.0546 - accuracy: 0.9647 - val_loss: 0.0533 - val_accuracy: 0.9600 - 5s/epoch - 25ms/step\n",
            "Epoch 3/15\n",
            "219/219 - 6s - loss: 0.0514 - accuracy: 0.9677 - val_loss: 0.0751 - val_accuracy: 0.9515 - 6s/epoch - 30ms/step\n",
            "Epoch 4/15\n",
            "219/219 - 6s - loss: 0.0444 - accuracy: 0.9720 - val_loss: 0.0487 - val_accuracy: 0.9652 - 6s/epoch - 27ms/step\n",
            "Epoch 5/15\n",
            "219/219 - 5s - loss: 0.0407 - accuracy: 0.9749 - val_loss: 0.0513 - val_accuracy: 0.9640 - 5s/epoch - 23ms/step\n",
            "Epoch 6/15\n",
            "219/219 - 5s - loss: 0.0395 - accuracy: 0.9754 - val_loss: 0.0651 - val_accuracy: 0.9640 - 5s/epoch - 22ms/step\n",
            "Epoch 7/15\n",
            "219/219 - 5s - loss: 0.0358 - accuracy: 0.9790 - val_loss: 0.0500 - val_accuracy: 0.9680 - 5s/epoch - 22ms/step\n",
            "Epoch 8/15\n",
            "219/219 - 5s - loss: 0.0318 - accuracy: 0.9797 - val_loss: 0.0687 - val_accuracy: 0.9578 - 5s/epoch - 25ms/step\n",
            "Epoch 9/15\n",
            "219/219 - 4s - loss: 0.0328 - accuracy: 0.9792 - val_loss: 0.0558 - val_accuracy: 0.9663 - 4s/epoch - 20ms/step\n",
            "Epoch 10/15\n",
            "219/219 - 5s - loss: 0.0292 - accuracy: 0.9826 - val_loss: 0.0480 - val_accuracy: 0.9686 - 5s/epoch - 21ms/step\n",
            "Epoch 11/15\n",
            "219/219 - 5s - loss: 0.0274 - accuracy: 0.9829 - val_loss: 0.0470 - val_accuracy: 0.9686 - 5s/epoch - 24ms/step\n",
            "Epoch 12/15\n",
            "219/219 - 4s - loss: 0.0273 - accuracy: 0.9822 - val_loss: 0.0583 - val_accuracy: 0.9669 - 4s/epoch - 21ms/step\n",
            "Epoch 13/15\n",
            "219/219 - 5s - loss: 0.0260 - accuracy: 0.9839 - val_loss: 0.0494 - val_accuracy: 0.9686 - 5s/epoch - 25ms/step\n",
            "Epoch 14/15\n",
            "219/219 - 4s - loss: 0.0273 - accuracy: 0.9834 - val_loss: 0.0550 - val_accuracy: 0.9709 - 4s/epoch - 20ms/step\n",
            "Epoch 15/15\n",
            "219/219 - 4s - loss: 0.0216 - accuracy: 0.9856 - val_loss: 0.0551 - val_accuracy: 0.9675 - 4s/epoch - 20ms/step\n"
          ]
        }
      ],
      "source": [
        "history=model.fit(x_train, y_train, epochs = 15, batch_size = 32, verbose=2 , callbacks=[callback],validation_split=0.2,)"
      ]
    },
    {
      "cell_type": "markdown",
      "id": "06777837",
      "metadata": {
        "id": "06777837"
      },
      "source": [
        "**Visualização dos Resultados**"
      ]
    },
    {
      "cell_type": "code",
      "execution_count": 68,
      "id": "0186f91b",
      "metadata": {
        "colab": {
          "base_uri": "https://localhost:8080/",
          "height": 507
        },
        "id": "0186f91b",
        "outputId": "f5f2d979-82d7-4e8f-e39e-bcf2a5f387b6"
      },
      "outputs": [
        {
          "output_type": "display_data",
          "data": {
            "text/plain": [
              "<Figure size 1000x500 with 2 Axes>"
            ],
            "image/png": "[encoded data removed]"
          },
          "metadata": {}
        }
      ],
      "source": [
        "plt.figure(figsize=(10, 5))  # Adjust figure size for better visualization\n",
        "\n",
        "# Gráfico de Accuracy\n",
        "plt.subplot(2, 1, 1)  # 2 rows, 1 column, first subplot\n",
        "plt.plot(history.history['accuracy'], label='accuracy de treino')\n",
        "plt.plot(history.history['val_accuracy'], label='val_accuracy')\n",
        "plt.title('Accuracy')\n",
        "plt.xlabel('epochs')\n",
        "plt.ylabel('accuracy')\n",
        "plt.legend()\n",
        "\n",
        "# Gráfico de Loss\n",
        "plt.subplot(2, 1, 2)  # 2 rows, 1 column, second subplot\n",
        "plt.plot(history.history['loss'], label='loss de treino')\n",
        "plt.plot(history.history['val_loss'], label='val_loss')\n",
        "plt.title('Loss')\n",
        "plt.xlabel('epochs')\n",
        "plt.ylabel('loss')\n",
        "plt.legend()\n",
        "\n",
        "plt.tight_layout()"
      ]
    }
  ],
  "metadata": {
    "kernelspec": {
      "display_name": "Python 3 (ipykernel)",
      "language": "python",
      "name": "python3"
    },
    "language_info": {
      "codemirror_mode": {
        "name": "ipython",
        "version": 3
      },
      "file_extension": ".py",
      "mimetype": "text/x-python",
      "name": "python",
      "nbconvert_exporter": "python",
      "pygments_lexer": "ipython3",
      "version": "3.11.5"
    },
    "colab": {
      "provenance": []
    }
  },
  "nbformat": 4,
  "nbformat_minor": 5
}